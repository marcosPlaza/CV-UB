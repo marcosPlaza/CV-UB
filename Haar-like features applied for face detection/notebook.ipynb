{
 "cells": [
  {
   "cell_type": "markdown",
   "metadata": {},
   "source": [
    "# Computer Vision - P6"
   ]
  },
  {
   "cell_type": "markdown",
   "metadata": {},
   "source": [
    "## Delivery\n",
    "\n",
    "Up to **1 point out of 10** will be penalized if the following requirements are not fulfilled:\n",
    "\n",
    "- Implemented code should be commented.\n",
    "\n",
    "- The questions introduced in the exercises must be answered.\n",
    "\n",
    "- Add title to the figures to explain what is displayed.\n",
    "\n",
    "- Comments need to be in **english**.\n",
    "\n",
    "- The deliverable must be a file named **P6_Student1_Student2.zip** that includes:\n",
    "    - The notebook P6_Student1_Student2.ipynb completed with the solutions to the exercises and their corresponding comments.\n",
    "    - All the images used in this notebook.\n",
    "\n",
    "**Deadline (Campus Virtual): January 2nd, 23:59 h** "
   ]
  },
  {
   "cell_type": "markdown",
   "metadata": {},
   "source": [
    "## Haar-like features applied for face detection\n",
    "\n",
    "Today's exercices will practise the following:\n",
    "\n",
    "- Integral images and a classical use for fast harr-like feature computation.\n",
    " - Use of Adaboost for classification.\n",
    "- Decisions based on a user-defined threshold for balancing precision and recall."
   ]
  },
  {
   "cell_type": "code",
   "execution_count": 2,
   "metadata": {},
   "outputs": [],
   "source": [
    "# Some useful imports for the exercises\n",
    "import numpy as np\n",
    "import os\n",
    "import matplotlib\n",
    "from PIL import Image\n",
    "from multiprocessing import Pool\n",
    "from functools import partial\n",
    "import time\n",
    "import timeit\n",
    "from matplotlib import pyplot as plt\n",
    "from skimage import io, color\n",
    "\n",
    "%matplotlib inline"
   ]
  },
  {
   "cell_type": "markdown",
   "metadata": {},
   "source": [
    "**1) Build a function `to_integral_image` that computes the integral image of an input (2D) array.**\n",
    "\n",
    "The integral image must have an additional row and column full of zeros (first row and first column).\n",
    "Make sure that the values of the integral image are correct.\n",
    "\n",
    "```python\n",
    " def to_integral_image(img_arr):\n",
    "    row_sum = np.zeros(img_arr.shape)\n",
    "    integral_image_arr = np.zeros((img_arr.shape[0] + 1, img_arr.shape[1] + 1))\n",
    "    # Add here code\n",
    "    \n",
    "    return integral_image_arr\n",
    "```\n",
    "\n",
    "\n",
    "You can make the following tests:\n",
    " \n",
    " - `sum(img_array) == ii_img_array[-1,-1]`\n",
    " - `img_array[0,:].sum() == ii_img_array[1,-1]`\n",
    " \n",
    "Plot the output of the integral image for the following array:\n",
    "\n",
    "```\n",
    "img_array = np.array([[1,2,2,2,1],[1,2,2,2,1],[1,2,2,2,1],[1,2,2,2,1]])\n",
    "```\n",
    "\n",
    "\n"
   ]
  },
  {
   "cell_type": "code",
   "execution_count": 3,
   "metadata": {},
   "outputs": [
    {
     "name": "stdout",
     "output_type": "stream",
     "text": [
      "[[1 2 2 2 1]\n",
      " [1 2 2 2 1]\n",
      " [1 2 2 2 1]\n",
      " [1 2 2 2 1]]\n"
     ]
    },
    {
     "data": {
      "image/png": "[encoded data removed]",
      "text/plain": [
       "<Figure size 432x288 with 1 Axes>"
      ]
     },
     "metadata": {
      "needs_background": "light"
     },
     "output_type": "display_data"
    }
   ],
   "source": [
    "img_array = np.array([[1,2,2,2,1],[1,2,2,2,1],[1,2,2,2,1],[1,2,2,2,1]])\n",
    "img_array.shape\n",
    "print(img_array)\n",
    "plt.title(\"Input array image\")\n",
    "plt.imshow(img_array, cmap=\"gray\", vmin=0, vmax= 5)\n",
    "plt.show()"
   ]
  },
  {
   "cell_type": "code",
   "execution_count": 3,
   "metadata": {},
   "outputs": [],
   "source": [
    "def to_integral_image(img_arr):\n",
    "    \"\"\"\n",
    "    Calculates the integral image based on this instance's original image data.\n",
    "    :param img_arr: Image source data\n",
    "    :type img_arr: numpy.ndarray\n",
    "    :return Integral image for given image\n",
    "    :rtype: numpy.ndarray\n",
    "    \"\"\"\n",
    "    # we need an additional column and row\n",
    "    integral_image_arr = np.zeros((img_arr.shape[0] + 1, img_arr.shape[1] + 1))\n",
    "    \n",
    "    w = integral_image_arr.shape[0]\n",
    "    h = integral_image_arr.shape[1]\n",
    "    \n",
    "    #With the following loop compute the input to the integral image \n",
    "    #Need to start by row and column 1 because we want the frist row/column with value 0\n",
    "    for i in range(1,w):\n",
    "        for j in range(1,h):\n",
    "            #Apply the agorithm seen in class\n",
    "            integral_image_arr[i,j] = img_arr[i-1,j-1] + integral_image_arr[i, j-1] \\\n",
    "            + integral_image_arr[i-1, j] - integral_image_arr[i-1,j-1]\n",
    "\n",
    "    #Finally return the integral image\n",
    "    return integral_image_arr"
   ]
  },
  {
   "cell_type": "code",
   "execution_count": 28,
   "metadata": {},
   "outputs": [
    {
     "name": "stdout",
     "output_type": "stream",
     "text": [
      "All the tests were passed!\n",
      "\n",
      "Resultant image array\n",
      "[[ 0.  0.  0.  0.  0.  0.]\n",
      " [ 0.  1.  3.  5.  7.  8.]\n",
      " [ 0.  2.  6. 10. 14. 16.]\n",
      " [ 0.  3.  9. 15. 21. 24.]\n",
      " [ 0.  4. 12. 20. 28. 32.]]\n"
     ]
    },
    {
     "data": {
      "image/png": "[encoded data removed]",
      "text/plain": [
       "<Figure size 432x288 with 1 Axes>"
      ]
     },
     "metadata": {
      "needs_background": "light"
     },
     "output_type": "display_data"
    },
    {
     "name": "stdout",
     "output_type": "stream",
     "text": [
      "(201, 201)\n"
     ]
    },
    {
     "data": {
      "image/png": "[encoded data removed]",
      "text/plain": [
       "<Figure size 432x288 with 1 Axes>"
      ]
     },
     "metadata": {
      "needs_background": "light"
     },
     "output_type": "display_data"
    }
   ],
   "source": [
    "#Let's make the test of the function\n",
    "ii_img_array = to_integral_image(img_array)\n",
    "\n",
    "#Change to np.sum to get the total summatory of the image\n",
    "tests = [np.sum(img_array) == ii_img_array[-1,-1],img_array[0,:].sum() == ii_img_array[1,-1]]\n",
    "if all(tests): print(\"All the tests were passed!\")\n",
    "    \n",
    "print(\"\\nResultant image array\")\n",
    "print(ii_img_array)\n",
    "\n",
    "plt.title(\"Integral image from the first image\")\n",
    "plt.imshow(ii_img_array,cmap='gray')\n",
    "plt.show()\n",
    "\n",
    "ii_img_array2 = to_integral_image(np.ones((200,200)))\n",
    "print(ii_img_array2.shape)\n",
    "plt.imshow(ii_img_array2,cmap='gray')\n",
    "plt.show()"
   ]
  },
  {
   "cell_type": "code",
   "execution_count": 27,
   "metadata": {},
   "outputs": [
    {
     "data": {
      "image/png": "[encoded data removed]",
      "text/plain": [
       "<Figure size 432x288 with 1 Axes>"
      ]
     },
     "metadata": {
      "needs_background": "light"
     },
     "output_type": "display_data"
    },
    {
     "data": {
      "image/png": "[encoded data removed]",
      "text/plain": [
       "<Figure size 432x288 with 1 Axes>"
      ]
     },
     "metadata": {
      "needs_background": "light"
     },
     "output_type": "display_data"
    }
   ],
   "source": [
    "face = io.imread(\"cara.png\")\n",
    "face = color.rgb2gray(face)\n",
    "\n",
    "ii_face = to_integral_image(face)\n",
    "\n",
    "plt.imshow(face, cmap='gray')\n",
    "plt.show()\n",
    "\n",
    "plt.imshow(ii_face)\n",
    "plt.show()"
   ]
  },
  {
   "cell_type": "markdown",
   "metadata": {},
   "source": [
    "**2) Build a function to compute the sum of the pixel intensities within a rectangle using the integral image. The rectangle will be defined using the top left (x, y) and bottom right (x, y) coordinates.**\n",
    "\n",
    "Make the function with the following header:\n",
    "```\n",
    "def sum_region(integral_img_arr, top_left, bottom_right):\n",
    "```\n"
   ]
  },
  {
   "cell_type": "code",
   "execution_count": 11,
   "metadata": {},
   "outputs": [],
   "source": [
    "def sum_region(integral_img_arr, top_left, bottom_right):\n",
    "    \n",
    "    # We better separate top_left and bottom right into new coords A, B, C and D \n",
    "    # This scheme is representing the region we want to get the sum\n",
    "    # A              B\n",
    "    #  +------------+\n",
    "    #  |            |\n",
    "    #  |            |\n",
    "    #  +------------+\n",
    "    # C              D\n",
    "    \n",
    "    A = tuple(top_left)\n",
    "    B = (top_left[0],bottom_right[1])\n",
    "    C = (bottom_right[0],top_left[1])\n",
    "    D = tuple(bottom_right)\n",
    "    \n",
    "    #Finally apply the formula seen in class, which computes the final summatory of the region given\n",
    "    #through the coordenates\n",
    "    return integral_img_arr[D] - integral_img_arr[B] - integral_img_arr[C] + integral_img_arr[A] "
   ]
  },
  {
   "cell_type": "code",
   "execution_count": 12,
   "metadata": {},
   "outputs": [
    {
     "data": {
      "text/plain": [
       "12.0"
      ]
     },
     "execution_count": 12,
     "metadata": {},
     "output_type": "execute_result"
    }
   ],
   "source": [
    "# result you should get (12)\n",
    "sum_region(ii_img_array, [1,1],[3,4])"
   ]
  },
  {
   "cell_type": "code",
   "execution_count": 13,
   "metadata": {},
   "outputs": [
    {
     "data": {
      "text/plain": [
       "32.0"
      ]
     },
     "execution_count": 13,
     "metadata": {},
     "output_type": "execute_result"
    }
   ],
   "source": [
    "# result you should get (32)\n",
    "sum_region(ii_img_array, [0,0],[-1,-1])"
   ]
  },
  {
   "cell_type": "markdown",
   "metadata": {
    "collapsed": true
   },
   "source": [
    "**3) Compute the integral image for all the following images:**\n",
    "    \n",
    "- training images of faces: save results in **`faces_ii_training`**\n",
    "- testing images of face: save the results in **`faces_ii_testing`**\n",
    "- training images of non faces: **`non_faces_ii_training`**\n",
    "- testing images of non faces:  **`non_faces_ii_testing`**\n",
    "\n",
    "To do so build a function to read all the images inside a given folder:\n",
    "\n",
    "```python\n",
    "def load_images(path):\n",
    "    images = []\n",
    "    for _file in os.listdir(path):\n",
    "       #### Read image\n",
    "       #### Remember to scale the image (wih the max pixel intensity value)\n",
    "     \n",
    "    return images\n",
    " ```"
   ]
  },
  {
   "cell_type": "code",
   "execution_count": 14,
   "metadata": {},
   "outputs": [],
   "source": [
    "pos_training_path = 'trainingdata/faces'\n",
    "neg_training_path = 'trainingdata/nonfaces'\n",
    "pos_testing_path = 'trainingdata/faces/test'\n",
    "neg_testing_path = 'trainingdata/nonfaces/test'"
   ]
  },
  {
   "cell_type": "code",
   "execution_count": 15,
   "metadata": {
    "scrolled": true
   },
   "outputs": [],
   "source": [
    "def load_images(path):\n",
    "    # This python list will hold all the images of the specified path\n",
    "    images = []\n",
    "    \n",
    "    # This loop allow us to iterate over the files on the specified path \n",
    "    for _file in os.listdir(path):\n",
    "        # Get the current path\n",
    "        fname = path + \"/\" + _file\n",
    "\n",
    "        # We only want to open those files with the .png extension\n",
    "        # With this condition we're avoiding other files such as .DS_Store or directories like 'test'\n",
    "        if(\".png\" in fname):\n",
    "            # carreguem la imatge\n",
    "            im = io.imread(fname)\n",
    "            \n",
    "            # la normalitzem pel maxim\n",
    "            max_value = np.max(im)\n",
    "            \n",
    "            #Avoiding division by zero\n",
    "            if max_value != 0: \n",
    "                im = im / np.max(im)\n",
    "                \n",
    "            # calculem la seva integral i l'afegim a la llista d'imatges\n",
    "            images.append(to_integral_image(im))\n",
    "            \n",
    "    return images"
   ]
  },
  {
   "cell_type": "markdown",
   "metadata": {},
   "source": [
    "**4) Compute the Haar features of an image**\n",
    "\n",
    "The code given will use the  `sum_region` function you have implemented to compute Haar-like features.\n",
    "The following code, for example, will compute a vertical Haar-like feature\n",
    "```python\n",
    "    first = sum_region(int_img, \n",
    "                      self.top_left, \n",
    "                      (self.top_left[0] + self.width, int(self.top_left[1] + self.height / 2)))\n",
    "    second = sum_region(int_img, \n",
    "                       (self.top_left[0], int(self.top_left[1] + self.height / 2)),\n",
    "                       self.bottom_right)\n",
    "    score = first - second\n",
    "```\n",
    "\n",
    "We provide you with `HaarLikeFeature` class that has build in a `get_score` function and a `get_vote` function.\n",
    "\n",
    "Your job is to \n",
    "```python\n",
    "def _create_features(img_height, img_width, min_feature_width, max_feature_width, min_feature_height, max_feature_height):\n",
    "    print('Creating Haar-like features..')\n",
    "    t0 = time.time()\n",
    "    features = []\n",
    "    for feature in FeatureTypes:\n",
    "        # FeatureTypes are just tuples\n",
    "        feature_start_width = max(min_feature_width, feature[0])\n",
    "        for feature_width in range(feature_start_width, max_feature_width, feature[0]):\n",
    "            feature_start_height = max(min_feature_height, feature[1])\n",
    "            for feature_height in range(feature_start_height, max_feature_height, feature[1]):\n",
    "                # Loop over possible x values and y values \n",
    "                # - For each (x,y) create the HarrLikeFeature objects.\n",
    "                # - append the HaarlikeFeatures in the features list.\n",
    "                # Notice that Haarlike features contain polarity, append features for polarity 1 and -1\n",
    "                # The threshold can be set to 0 for all of them.\n",
    "                \n",
    "                \n",
    "    print('\\t' + str(len(features)) + ' features created.')\n",
    "    print('\\tTime needed for calculating Harr-like features:', time.time()-t0)\n",
    "    return features\n",
    "```"
   ]
  },
  {
   "cell_type": "code",
   "execution_count": 16,
   "metadata": {},
   "outputs": [],
   "source": [
    "def enum(**enums):\n",
    "    return type('Enum', (), enums)\n",
    "\n",
    "FeatureType = enum(TWO_VERTICAL=(1, 2), TWO_HORIZONTAL=(2, 1), THREE_HORIZONTAL=(3, 1), THREE_VERTICAL=(1, 3), FOUR=(2, 2))\n",
    "FeatureTypes = [FeatureType.TWO_VERTICAL, FeatureType.TWO_HORIZONTAL, FeatureType.THREE_VERTICAL, FeatureType.THREE_HORIZONTAL, FeatureType.FOUR]\n",
    "\n",
    "class HaarLikeFeature(object):\n",
    "    \"\"\"\n",
    "    Class representing a haar-like feature.\n",
    "    \"\"\"\n",
    "\n",
    "    def __init__(self, feature_type, position, width, height, threshold, polarity):\n",
    "        \"\"\"\n",
    "        Creates a new haar-like feature.\n",
    "        :param feature_type: Type of new feature, see FeatureType enum\n",
    "        :type feature_type: violajonse.HaarLikeFeature.FeatureTypes\n",
    "        :param position: Top left corner where the feature begins (x, y)\n",
    "        :type position: (int, int)\n",
    "        :param width: Width of the feature\n",
    "        :type width: int\n",
    "        :param height: Height of the feature\n",
    "        :type height: int\n",
    "        :param threshold: Feature threshold\n",
    "        :type threshold: float\n",
    "        :param polarity: polarity of the feature -1 or 1\n",
    "        :type polarity: int\n",
    "        \"\"\"\n",
    "        self.type = feature_type\n",
    "        self.top_left = position\n",
    "        self.bottom_right = (position[0] + width, position[1] + height)\n",
    "        self.width = width\n",
    "        self.height = height\n",
    "        self.threshold = threshold\n",
    "        self.polarity = polarity\n",
    "        self.weight = 1\n",
    "    \n",
    "    def get_score(self, int_img):\n",
    "        \"\"\"\n",
    "        Get score for given integral image array.\n",
    "        :param int_img: Integral image array\n",
    "        :type int_img: numpy.ndarray\n",
    "        :return: Score for given feature\n",
    "        :rtype: float\n",
    "        \"\"\"\n",
    "        score = 0\n",
    "        if self.type == FeatureType.TWO_VERTICAL:\n",
    "            first = sum_region(int_img, self.top_left, (self.top_left[0] + self.width, int(self.top_left[1] + self.height / 2)))\n",
    "            second = sum_region(int_img, (self.top_left[0], int(self.top_left[1] + self.height / 2)), self.bottom_right)\n",
    "            score = first - second\n",
    "        elif self.type == FeatureType.TWO_HORIZONTAL:\n",
    "            first = sum_region(int_img, self.top_left, (int(self.top_left[0] + self.width / 2), self.top_left[1] + self.height))\n",
    "            second = sum_region(int_img, (int(self.top_left[0] + self.width / 2), self.top_left[1]), self.bottom_right)\n",
    "            score = first - second\n",
    "        elif self.type == FeatureType.THREE_HORIZONTAL:\n",
    "            first = sum_region(int_img, self.top_left, (int(self.top_left[0] + self.width / 3), self.top_left[1] + self.height))\n",
    "            second = sum_region(int_img, (int(self.top_left[0] + self.width / 3), self.top_left[1]), (int(self.top_left[0] + 2 * self.width / 3), self.top_left[1] + self.height))\n",
    "            third = sum_region(int_img, (int(self.top_left[0] + 2 * self.width / 3), self.top_left[1]), self.bottom_right)\n",
    "            score = first - second + third\n",
    "        elif self.type == FeatureType.THREE_VERTICAL:\n",
    "            first = sum_region(int_img, self.top_left, (self.bottom_right[0], int(self.top_left[1] + self.height / 3)))\n",
    "            second = sum_region(int_img, (self.top_left[0], int(self.top_left[1] + self.height / 3)), (self.bottom_right[0], int(self.top_left[1] + 2 * self.height / 3)))\n",
    "            third = sum_region(int_img, (self.top_left[0], int(self.top_left[1] + 2 * self.height / 3)), self.bottom_right)\n",
    "            score = first - second + third\n",
    "        elif self.type == FeatureType.FOUR:\n",
    "            # top left area\n",
    "            first = sum_region(int_img, self.top_left, (int(self.top_left[0] + self.width / 2), int(self.top_left[1] + self.height / 2)))\n",
    "            # top right area\n",
    "            second = sum_region(int_img, (int(self.top_left[0] + self.width / 2), self.top_left[1]), (self.bottom_right[0], int(self.top_left[1] + self.height / 2)))\n",
    "            # bottom left area\n",
    "            third = sum_region(int_img, (self.top_left[0], int(self.top_left[1] + self.height / 2)), (int(self.top_left[0] + self.width / 2), self.bottom_right[1]))\n",
    "            # bottom right area\n",
    "            fourth = sum_region(int_img, (int(self.top_left[0] + self.width / 2), int(self.top_left[1] + self.height / 2)), self.bottom_right)\n",
    "            score = first - second - third + fourth\n",
    "        return score\n",
    "    \n",
    "    def get_vote(self, int_img):\n",
    "        \"\"\"\n",
    "        Get vote of this feature for given integral image.\n",
    "        :param int_img: Integral image array\n",
    "        :type int_img: numpy.ndarray\n",
    "        :return: 1 if this feature votes positively, otherwise -1\n",
    "        :rtype: int\n",
    "        \"\"\"\n",
    "        score = self.get_score(int_img)\n",
    "        return self.weight * (1 if score < self.polarity * self.threshold else -1)\n"
   ]
  },
  {
   "cell_type": "code",
   "execution_count": 17,
   "metadata": {},
   "outputs": [],
   "source": [
    "# From Adaboost.py\n",
    "def learn(positive_iis, negative_iis, num_classifiers=-1, min_feature_width=1, max_feature_width=-1, min_feature_height=1, max_feature_height=-1):\n",
    "    \"\"\"\n",
    "    Selects a set of classifiers. Iteratively takes the best classifiers based\n",
    "    on a weighted error.\n",
    "    :param positive_iis: List of positive integral image examples\n",
    "    :type positive_iis: list[numpy.ndarray]\n",
    "    :param negative_iis: List of negative integral image examples\n",
    "    :type negative_iis: list[numpy.ndarray]\n",
    "    :param num_classifiers: Number of classifiers to select, -1 will use all\n",
    "    classifiers\n",
    "    :type num_classifiers: int\n",
    "    :return: List of selected features\n",
    "    :rtype: list[violajones.HaarLikeFeature.HaarLikeFeature]\n",
    "    \"\"\"\n",
    "    num_pos = len(positive_iis)\n",
    "    num_neg = len(negative_iis)\n",
    "    num_imgs = num_pos + num_neg\n",
    "    img_height, img_width = positive_iis[0].shape\n",
    "\n",
    "    # Maximum feature width and height default to image width and height\n",
    "    max_feature_height = img_height if max_feature_height == -1 else max_feature_height\n",
    "    max_feature_width = img_width if max_feature_width == -1 else max_feature_width\n",
    "\n",
    "    # Create initial weights and labels\n",
    "    pos_weights = np.ones(num_pos) * 1. / (2 * num_pos)\n",
    "    neg_weights = np.ones(num_neg) * 1. / (2 * num_neg)\n",
    "    weights = np.hstack((pos_weights, neg_weights))\n",
    "    labels = np.hstack((np.ones(num_pos), np.ones(num_neg) * -1))\n",
    "\n",
    "    images = positive_iis + negative_iis\n",
    "\n",
    "    # Create features for all sizes and locations\n",
    "    features = _create_features(img_height, img_width, min_feature_width, max_feature_width, min_feature_height, max_feature_height)\n",
    "    num_features = len(features)\n",
    "    feature_indexes = list(range(num_features))\n",
    "\n",
    "    num_classifiers = num_features if num_classifiers == -1 else num_classifiers\n",
    "\n",
    "    print('Calculating scores for images..')\n",
    "    t0 = time.time()\n",
    "    votes = np.zeros((num_imgs, num_features))\n",
    "    # Use as many workers as there are CPUs\n",
    "    pool = Pool(processes=None)\n",
    "    for i in range(num_imgs):\n",
    "        votes[i, :] = np.array(list(pool.map(partial(_get_feature_vote, image=images[i]), features)))\n",
    "\n",
    "    \n",
    "    print('\\tTime needed for calculating scores:', time.time()-t0)\n",
    "    \n",
    "    # select classifiers\n",
    "    classifiers = []\n",
    "\n",
    "    t0 = time.time()\n",
    "    print('Selecting classifiers..')\n",
    "    for _ in range(num_classifiers):\n",
    "\n",
    "        classification_errors = np.zeros(len(feature_indexes))\n",
    "\n",
    "        # normalize weights\n",
    "        weights *= 1. / np.sum(weights)\n",
    "\n",
    "        # select best classifier based on the weighted error\n",
    "        for f in range(len(feature_indexes)):\n",
    "            f_idx = feature_indexes[f]\n",
    "            # classifier error is the sum of image weights where the classifier\n",
    "            # is right\n",
    "            error = sum(map(lambda img_idx: weights[img_idx] if labels[img_idx] != votes[img_idx, f_idx] else 0, range(num_imgs)))\n",
    "            classification_errors[f] = error\n",
    "\n",
    "        # get best feature, i.e. with smallest error\n",
    "        min_error_idx = np.argmin(classification_errors)\n",
    "        best_error = classification_errors[min_error_idx]\n",
    "        best_feature_idx = feature_indexes[min_error_idx]\n",
    "\n",
    "        # set feature weight\n",
    "        best_feature = features[best_feature_idx]\n",
    "        feature_weight = 0.5 * np.log((1 - best_error) / best_error)\n",
    "        best_feature.weight = feature_weight\n",
    "\n",
    "        classifiers.append(best_feature)\n",
    "\n",
    "        # update image weights\n",
    "        weights = np.array(list(map(lambda img_idx: weights[img_idx] * np.sqrt((1-best_error)/best_error) if labels[img_idx] != votes[img_idx, best_feature_idx] else weights[img_idx] * np.sqrt(best_error/(1-best_error)), range(num_imgs))))\n",
    "\n",
    "        # remove feature (a feature can't be selected twice)\n",
    "        feature_indexes.remove(best_feature_idx)\n",
    "\n",
    "    print('\\tTime needed for Selecting Classifiers:', time.time()-t0,'\\n')\n",
    "\n",
    "    \n",
    "    return classifiers\n",
    "\n",
    "def _get_feature_vote(feature, image):\n",
    "    return feature.get_vote(image)\n",
    "\n",
    "# Method to compute the Haar-like features\n",
    "def _create_features(img_height, img_width, min_feature_width, max_feature_width, min_feature_height, max_feature_height):\n",
    "    print('Creating Haar-like features..')\n",
    "    t0 = time.time()\n",
    "    features = []\n",
    "    #Masks in FeatureTypes\n",
    "    for feature in FeatureTypes:\n",
    "        # FeatureTypes are just tuples\n",
    "        feature_start_width = max(min_feature_width, feature[0])\n",
    "        for feature_width in range(feature_start_width, max_feature_width, feature[0]):\n",
    "            feature_start_height = max(min_feature_height, feature[1])\n",
    "            for feature_height in range(feature_start_height, max_feature_height, feature[1]):\n",
    "\n",
    "                # Calculate the range of values we have to consider\n",
    "                x = img_width - feature_width\n",
    "                y = img_height - feature_height\n",
    "                \n",
    "                # Here we're looping through all possible x values with they respectives y values\n",
    "                for i in range(x - 1):\n",
    "                    for j in range(y - 1):\n",
    "                        # Now we have to create the HaarLikeFeature object with the two polarities (1 & -1)\n",
    "                        # As it is said above, we will set the thereshold for every feature to 0\n",
    "                        neg = HaarLikeFeature(feature, (i,j), feature_width, feature_height, 0, -1)\n",
    "                        pos = HaarLikeFeature(feature, (i,j), feature_width, feature_height, 0, 1)\n",
    "                        \n",
    "                        # Append the two objects to the feature array\n",
    "                        features.append(neg)\n",
    "                        features.append(pos)\n",
    "            \n",
    "    print('\\t' + str(len(features)) + ' features created.')\n",
    "    print('\\tTime needed for calculating Harr-like features:', time.time()-t0)\n",
    "    return features\n"
   ]
  },
  {
   "cell_type": "markdown",
   "metadata": {},
   "source": [
    "**5)Use the learn method to learn a list of classifiers with the train data**\n",
    "\n",
    "With the `learn` function you can build a list of classifiers that detect whether an image contains a face or not.\n",
    "\n",
    "Use the following hyperparameters of the features and `num_classifiers`."
   ]
  },
  {
   "cell_type": "code",
   "execution_count": 18,
   "metadata": {},
   "outputs": [],
   "source": [
    "num_classifiers = 2\n",
    "min_feature_height = 8\n",
    "max_feature_height = 10\n",
    "min_feature_width = 8\n",
    "max_feature_width = 10"
   ]
  },
  {
   "cell_type": "code",
   "execution_count": 19,
   "metadata": {},
   "outputs": [],
   "source": [
    "# First we need to load all the images for train and test the data\n",
    "\n",
    "# Training dataset\n",
    "faces_train = load_images(pos_training_path)\n",
    "no_faces_train = load_images(neg_training_path)\n",
    "\n",
    "# Testing dataset\n",
    "faces_test = load_images(pos_testing_path)\n",
    "no_faces_test = load_images(neg_testing_path)"
   ]
  },
  {
   "cell_type": "code",
   "execution_count": 20,
   "metadata": {},
   "outputs": [
    {
     "name": "stdout",
     "output_type": "stream",
     "text": [
      "Creating Haar-like features..\n",
      "\t2090 features created.\n",
      "\tTime needed for calculating Harr-like features: 0.004766941070556641\n",
      "Calculating scores for images..\n",
      "\tTime needed for calculating scores: 139.52367401123047\n",
      "Selecting classifiers..\n",
      "\tTime needed for Selecting Classifiers: 30.41373372077942 \n",
      "\n",
      "CPU times: user 1min 58s, sys: 2.87 s, total: 2min 1s\n",
      "Wall time: 2min 49s\n"
     ]
    }
   ],
   "source": [
    "%%time \n",
    "\n",
    "#Then we use the learn method previously fixed ~3 min\n",
    "classifiers = learn(faces_train, no_faces_train, num_classifiers, min_feature_width, max_feature_width, min_feature_height, max_feature_height)"
   ]
  },
  {
   "cell_type": "markdown",
   "metadata": {},
   "source": [
    "**6) Make a function for voting with different classifiers**\n",
    "\n",
    "Build two functions `ensemble_vote` and `ensemble_vote_all`.\n",
    "\n",
    "- `ensemble_vote(int_img, classifiers)` has to return a 1 if the majority of the votes of the classifiers is positive and a zero otherwise\n",
    "\n",
    "- `ensemble_vote_all(int_imgs, classifiers)` has to loop over the list `int_imgs` and compute the `ensemble_vote` for each image in the list. It has to return a list containing all the votes for all the images in  `int_imgs`.\n",
    "\n",
    "Use the functions to compute the train and test acurracies for faces and non faces.\n",
    "\n",
    "Print the results in the following format:\n",
    "```\n",
    "train results:\n",
    "Correctly identified Faces: 2129/2429  (87.64923836969946%)\n",
    "Correctly identified non-Faces: 4276/8548  (50.02339728591484%)\n",
    "\n",
    "test results:\n",
    "Correctly identified Faces: 300/472  (63.559322033898304%)\n",
    "Correctly identified non-Faces: 74/128  (57.8125%)\n",
    "```\n",
    "\n",
    "It is not required to get this exact results but print the information in this format. It facilitates understanding the results."
   ]
  },
  {
   "cell_type": "code",
   "execution_count": 21,
   "metadata": {},
   "outputs": [],
   "source": [
    "def ensemble_vote(int_img, classifiers):\n",
    "    # Total number of Haar-like features \n",
    "    n_classifiers = len(classifiers)\n",
    "    \n",
    "    # Compute all the positive results comparing the int_img with Haar-like features on classifiers\n",
    "    pos_results = [feat for feat in classifiers if feat.get_vote(int_img) > 0]\n",
    "    \n",
    "    # Calculate the number of positive results\n",
    "    n_pos_results = len(pos_results)\n",
    "    \n",
    "    # Compute the percentage of good results avoiding division by 0\n",
    "    if n_classifiers != 0: prop = np.float(n_pos_results/n_classifiers)\n",
    "    \n",
    "    # returning 1 if the majority are positive results \n",
    "    if prop > 0.5: return 1\n",
    "    # otherwise return 0\n",
    "    else: return 0"
   ]
  },
  {
   "cell_type": "code",
   "execution_count": 22,
   "metadata": {},
   "outputs": [],
   "source": [
    "# Solution 1\n",
    "def ensemble_vote_all(int_imgs, classifiers):\n",
    "    # use the previous function to get 1s (positive results > 50%) and 0s array with the results of comparing\n",
    "    # every image in int_imgs\n",
    "    return [ensemble_vote(img, classifiers) for img in int_imgs]"
   ]
  },
  {
   "cell_type": "markdown",
   "metadata": {},
   "source": [
    "### In order to print the results, compile the functions of exercice 8 first."
   ]
  },
  {
   "cell_type": "code",
   "execution_count": 23,
   "metadata": {},
   "outputs": [],
   "source": [
    "def print_results(faces_train, no_faces_train, faces_test, no_faces_test, classifiers, threshold=None):\n",
    "    print(\"--------------------------------------------------------------\")\n",
    "    # Print the results \n",
    "\n",
    "    # First the train results...\n",
    "    print(\"train results:\")\n",
    "\n",
    "    total_faces = len(faces_train) # number of faces\n",
    "    total_no_faces = len(no_faces_train) # number of no faces\n",
    "\n",
    "    if threshold is not None:\n",
    "        # Calcule the number of positive results when we've introduced a thereshold\n",
    "        n_train_faces = np.sum(ensemble_vote_all_t(faces_train, classifiers, threshold))\n",
    "        n_train_no_faces = total_no_faces - np.sum(ensemble_vote_all_t(no_faces_train, classifiers, threshold))\n",
    "    else:\n",
    "        # Calcule the number of positive results\n",
    "        n_train_faces = np.sum(ensemble_vote_all(faces_train, classifiers))\n",
    "        n_train_no_faces = total_no_faces - np.sum(ensemble_vote_all(no_faces_train, classifiers))\n",
    "\n",
    "    # Compute the percentages\n",
    "    percent_train_f = n_train_faces / total_faces * 100\n",
    "    percent_train_nf = n_train_no_faces / total_no_faces * 100\n",
    "\n",
    "    print(\"Correctly identified Faces: \" + str(n_train_faces) + \"/\" + str(total_faces) + \" (\" + str(percent_train_f) + \"%)\")\n",
    "    print(\"Correctly identified non-Faces: \" + str(n_train_no_faces) + \"/\" + str(total_no_faces) + \" (\" + str(percent_train_nf) + \"%)\")\n",
    "\n",
    "    print(\"\\n\")\n",
    "\n",
    "    # Now the test ones...\n",
    "    print(\"test results:\")\n",
    "\n",
    "    total_faces2 = len(faces_test) # number of faces\n",
    "    total_no_faces2 = len(no_faces_test) # number of no faces\n",
    "\n",
    "    if threshold is not None:\n",
    "        # Calcule the number of positive results when we've introduced a thereshold\n",
    "        n_test_faces = np.sum(ensemble_vote_all_t(faces_test, classifiers, threshold))\n",
    "        n_test_no_faces = total_no_faces2 - np.sum(ensemble_vote_all_t(no_faces_test, classifiers, threshold))\n",
    "    else:\n",
    "        # Calcule the number of positive results\n",
    "        n_test_faces = np.sum(ensemble_vote_all(faces_test, classifiers))\n",
    "        n_test_no_faces = total_no_faces2 - np.sum(ensemble_vote_all(no_faces_test, classifiers))\n",
    "\n",
    "    # Compute the percentages\n",
    "    percent_test_f = n_test_faces / total_faces2 * 100\n",
    "    percent_test_nf = n_test_no_faces / total_no_faces2 * 100\n",
    "\n",
    "    print(\"Correctly identified Faces: \" + str(n_test_faces) + \"/\" + str(total_faces2) + \" (\" + str(percent_test_f) + \"%)\")\n",
    "    print(\"Correctly identified non-Faces: \" + str(n_test_no_faces) + \"/\" + str(total_no_faces2) + \" (\" + str(percent_test_nf) + \"%)\")\n",
    "    print(\"--------------------------------------------------------------\")\n",
    "    \n",
    "    if threshold is not None:\n",
    "        return percent_train_f, percent_train_nf, percent_test_f, percent_test_nf"
   ]
  },
  {
   "cell_type": "code",
   "execution_count": 24,
   "metadata": {},
   "outputs": [
    {
     "name": "stdout",
     "output_type": "stream",
     "text": [
      "--------------------------------------------------------------\n",
      "train results:\n",
      "Correctly identified Faces: 2069/2429 (85.17908604363936%)\n",
      "Correctly identified non-Faces: 6136/8548 (71.78287318671033%)\n",
      "\n",
      "\n",
      "test results:\n",
      "Correctly identified Faces: 254/472 (53.813559322033896%)\n",
      "Correctly identified non-Faces: 98/128 (76.5625%)\n",
      "--------------------------------------------------------------\n"
     ]
    }
   ],
   "source": [
    "print_results(faces_train, no_faces_train, faces_test, no_faces_test, classifiers)"
   ]
  },
  {
   "cell_type": "markdown",
   "metadata": {},
   "source": [
    "**7) Make another test with 20 classifiers instead of 2**\n",
    "\n",
    "Inspect the classification results if you use adaboost with 20 classifiers. Use the same hyperameters for the features.\n",
    "Print the results as in the previous exercise:\n",
    "\n",
    "```\n",
    "train results:\n",
    "Correctly identified Faces: 2256/2429  (92.87772745986003%)\n",
    "Correctly identified non-Faces: 7046/8548  (82.42863827795975%)\n",
    "\n",
    "test results:\n",
    "Correctly identified Faces: 285/472  (60.381355932203384%)\n",
    "Correctly identified non-Faces: 104/128  (81.25%)\n",
    "```\n",
    "\n",
    "- Do the classification results improved in the train data?\n",
    "\n"
   ]
  },
  {
   "cell_type": "code",
   "execution_count": 25,
   "metadata": {},
   "outputs": [],
   "source": [
    "num_classifiers_2 = 20\n",
    "min_feature_height_2 = 8\n",
    "max_feature_height_2 = 10\n",
    "min_feature_width_2 = 8\n",
    "max_feature_width_2 = 10"
   ]
  },
  {
   "cell_type": "code",
   "execution_count": 26,
   "metadata": {},
   "outputs": [
    {
     "name": "stdout",
     "output_type": "stream",
     "text": [
      "Creating Haar-like features..\n",
      "\t2090 features created.\n",
      "\tTime needed for calculating Harr-like features: 0.006367921829223633\n",
      "Calculating scores for images..\n",
      "\tTime needed for calculating scores: 140.87716102600098\n",
      "Selecting classifiers..\n",
      "\tTime needed for Selecting Classifiers: 302.5863411426544 \n",
      "\n",
      "CPU times: user 6min 29s, sys: 3.75 s, total: 6min 33s\n",
      "Wall time: 7min 23s\n"
     ]
    }
   ],
   "source": [
    "%%time\n",
    "#Now compute the learning with 20 classifiers ~8 min\n",
    "classifiers2 = learn(faces_train, no_faces_train, num_classifiers_2, min_feature_width_2, max_feature_width_2, min_feature_height_2, max_feature_height_2)"
   ]
  },
  {
   "cell_type": "code",
   "execution_count": 27,
   "metadata": {},
   "outputs": [
    {
     "name": "stdout",
     "output_type": "stream",
     "text": [
      "--------------------------------------------------------------\n",
      "train results:\n",
      "Correctly identified Faces: 2005/2429 (82.54425689584191%)\n",
      "Correctly identified non-Faces: 7659/8548 (89.59990641085635%)\n",
      "\n",
      "\n",
      "test results:\n",
      "Correctly identified Faces: 201/472 (42.58474576271186%)\n",
      "Correctly identified non-Faces: 114/128 (89.0625%)\n",
      "--------------------------------------------------------------\n"
     ]
    }
   ],
   "source": [
    "# Finally print the results...\n",
    "print_results(faces_train, no_faces_train, faces_test, no_faces_test, classifiers2)"
   ]
  },
  {
   "cell_type": "markdown",
   "metadata": {},
   "source": [
    "### Answering questions"
   ]
  },
  {
   "cell_type": "markdown",
   "metadata": {},
   "source": [
    "As we can see, test results of correctly identified faces has decrease respect the previous calculation. Otherwise the number of correctly identified non-Faces has increased.\n",
    "\n",
    "This can be caused due to the variation of the training set. There is a parallelism because there is also a decrement of correctly identified training faces and a huge increase of correctly identified training no faces."
   ]
  },
  {
   "cell_type": "markdown",
   "metadata": {},
   "source": [
    "**8) Change the voting functions so that you can set a threshold for deciding a prediction**\n",
    "\n",
    "The threshold value indicates the minimum score for assigning a \"positive\" label (detect a face).\n",
    "\n",
    "Create the following functions\n",
    "\n",
    "- `ensemble_vote_t`: returns the final decision of a list of classifiers for a given threshold.\n",
    "- `ensemble_vote_all_t`: Iterates over a list of integral images and returns the  final decision of a list of classifiers for each of the images (for a given threshold).\n",
    "\n",
    "\n",
    "\n",
    "compute the following:\n",
    "\n",
    "- a) number of correct faces over all faces (in the train data)\n",
    "- b) number of correct non faces over all non faces (in the train data)\n",
    "- c) number of correct faces over all faces (in the test data)\n",
    "- d) number of correct non faces over all non faces (in the test data)\n",
    "\n",
    "Using the list of 20 classifiers.\n",
    "\n",
    "\n",
    "The quantities have to be computed for each of the following thresholds:\n",
    "\n",
    "```\n",
    "thresholds = np.array([x for x in range(-5,5,1)])/10.\n",
    "```\n",
    "\n",
    "- Make a bar bar plot for a) b) c) and d). In the x axis write the threshold value. \n",
    "\n",
    "- What happens when you increase the threshold value ?"
   ]
  },
  {
   "cell_type": "code",
   "execution_count": 28,
   "metadata": {},
   "outputs": [],
   "source": [
    "thresholds = np.array([x for x in range(-5,5,1)])/10."
   ]
  },
  {
   "cell_type": "code",
   "execution_count": 29,
   "metadata": {},
   "outputs": [],
   "source": [
    "# This lists will be used to plot the graphica of the percentages vs thresholds\n",
    "correct_faces_train_t = []\n",
    "correct_non_faces_train_t = []\n",
    "correct_faces_test_t = []\n",
    "correct_non_faces_test_t = []"
   ]
  },
  {
   "cell_type": "code",
   "execution_count": 30,
   "metadata": {},
   "outputs": [],
   "source": [
    "def ensemble_score(int_img, classifiers):\n",
    "    return sum([c.get_vote(int_img) for c in classifiers])\n",
    "\n",
    "def ensemble_vote_t(int_img, classifiers,t):\n",
    "    # We're returning 1 in the case the average previously computed is greater than the threshold\n",
    "    return 1 if ensemble_score(int_img, classifiers) > t else 0\n",
    "\n",
    "def ensemble_vote_all_t(int_imgs, classifiers,t=-0.1):\n",
    "    #Compute the votes for every image on int_imgs\n",
    "    votes = [ensemble_vote_t(int_img, classifiers, t) for int_img in int_imgs]\n",
    "    \n",
    "    # finally return the list comprehension\n",
    "    return votes"
   ]
  },
  {
   "cell_type": "code",
   "execution_count": 31,
   "metadata": {},
   "outputs": [
    {
     "name": "stdout",
     "output_type": "stream",
     "text": [
      "\n",
      "Threshold used -0.5\n",
      "--------------------------------------------------------------\n",
      "train results:\n",
      "Correctly identified Faces: 2362/2429 (97.24166323589955%)\n",
      "Correctly identified non-Faces: 5790/8548 (67.73514272344407%)\n",
      "\n",
      "\n",
      "test results:\n",
      "Correctly identified Faces: 356/472 (75.42372881355932%)\n",
      "Correctly identified non-Faces: 92/128 (71.875%)\n",
      "--------------------------------------------------------------\n",
      "\n",
      "Threshold used -0.4\n",
      "--------------------------------------------------------------\n",
      "train results:\n",
      "Correctly identified Faces: 2340/2429 (96.33594071634417%)\n",
      "Correctly identified non-Faces: 6009/8548 (70.29714553111839%)\n",
      "\n",
      "\n",
      "test results:\n",
      "Correctly identified Faces: 342/472 (72.45762711864407%)\n",
      "Correctly identified non-Faces: 93/128 (72.65625%)\n",
      "--------------------------------------------------------------\n",
      "\n",
      "Threshold used -0.3\n",
      "--------------------------------------------------------------\n",
      "train results:\n",
      "Correctly identified Faces: 2313/2429 (95.22437216961713%)\n",
      "Correctly identified non-Faces: 6343/8548 (74.20449227889566%)\n",
      "\n",
      "\n",
      "test results:\n",
      "Correctly identified Faces: 327/472 (69.27966101694916%)\n",
      "Correctly identified non-Faces: 95/128 (74.21875%)\n",
      "--------------------------------------------------------------\n",
      "\n",
      "Threshold used -0.2\n",
      "--------------------------------------------------------------\n",
      "train results:\n",
      "Correctly identified Faces: 2296/2429 (94.52449567723343%)\n",
      "Correctly identified non-Faces: 6560/8548 (76.74309780065512%)\n",
      "\n",
      "\n",
      "test results:\n",
      "Correctly identified Faces: 312/472 (66.10169491525424%)\n",
      "Correctly identified non-Faces: 99/128 (77.34375%)\n",
      "--------------------------------------------------------------\n",
      "\n",
      "Threshold used -0.1\n",
      "--------------------------------------------------------------\n",
      "train results:\n",
      "Correctly identified Faces: 2260/2429 (93.04240428159737%)\n",
      "Correctly identified non-Faces: 6778/8548 (79.29340196537201%)\n",
      "\n",
      "\n",
      "test results:\n",
      "Correctly identified Faces: 300/472 (63.559322033898304%)\n",
      "Correctly identified non-Faces: 101/128 (78.90625%)\n",
      "--------------------------------------------------------------\n",
      "\n",
      "Threshold used 0.0\n",
      "--------------------------------------------------------------\n",
      "train results:\n",
      "Correctly identified Faces: 2219/2429 (91.35446685878964%)\n",
      "Correctly identified non-Faces: 6973/8548 (81.57463734206833%)\n",
      "\n",
      "\n",
      "test results:\n",
      "Correctly identified Faces: 276/472 (58.47457627118644%)\n",
      "Correctly identified non-Faces: 102/128 (79.6875%)\n",
      "--------------------------------------------------------------\n",
      "\n",
      "Threshold used 0.1\n",
      "--------------------------------------------------------------\n",
      "train results:\n",
      "Correctly identified Faces: 2187/2429 (90.0370522848909%)\n",
      "Correctly identified non-Faces: 7189/8548 (84.10154422087038%)\n",
      "\n",
      "\n",
      "test results:\n",
      "Correctly identified Faces: 258/472 (54.66101694915254%)\n",
      "Correctly identified non-Faces: 104/128 (81.25%)\n",
      "--------------------------------------------------------------\n",
      "\n",
      "Threshold used 0.2\n",
      "--------------------------------------------------------------\n",
      "train results:\n",
      "Correctly identified Faces: 2099/2429 (86.4141622066694%)\n",
      "Correctly identified non-Faces: 7415/8548 (86.7454375292466%)\n",
      "\n",
      "\n",
      "test results:\n",
      "Correctly identified Faces: 221/472 (46.82203389830508%)\n",
      "Correctly identified non-Faces: 110/128 (85.9375%)\n",
      "--------------------------------------------------------------\n",
      "\n",
      "Threshold used 0.3\n",
      "--------------------------------------------------------------\n",
      "train results:\n",
      "Correctly identified Faces: 2052/2429 (84.47920955125566%)\n",
      "Correctly identified non-Faces: 7566/8548 (88.51193261581656%)\n",
      "\n",
      "\n",
      "test results:\n",
      "Correctly identified Faces: 197/472 (41.73728813559322%)\n",
      "Correctly identified non-Faces: 113/128 (88.28125%)\n",
      "--------------------------------------------------------------\n",
      "\n",
      "Threshold used 0.4\n",
      "--------------------------------------------------------------\n",
      "train results:\n",
      "Correctly identified Faces: 1973/2429 (81.22684232194318%)\n",
      "Correctly identified non-Faces: 7756/8548 (90.73467477772579%)\n",
      "\n",
      "\n",
      "test results:\n",
      "Correctly identified Faces: 163/472 (34.53389830508475%)\n",
      "Correctly identified non-Faces: 116/128 (90.625%)\n",
      "--------------------------------------------------------------\n"
     ]
    }
   ],
   "source": [
    "# Print the results for all thresholds in thresholds list\n",
    "for threshold in thresholds:\n",
    "    print(\"\\nThreshold used\",threshold)\n",
    "    ftrain, nftrain, ftest, nftest = print_results(faces_train, no_faces_train, faces_test,\\\n",
    "                                                   no_faces_test, classifiers2, threshold)\n",
    "    #Append the results in order to plot'em later\n",
    "    correct_faces_train_t.append(ftrain)\n",
    "    correct_non_faces_train_t.append(nftrain)\n",
    "    correct_faces_test_t.append(ftest)\n",
    "    correct_non_faces_test_t.append(nftest)"
   ]
  },
  {
   "cell_type": "code",
   "execution_count": 32,
   "metadata": {},
   "outputs": [
    {
     "data": {
      "image/png": "[encoded data removed]",
      "text/plain": [
       "<Figure size 1008x468 with 1 Axes>"
      ]
     },
     "metadata": {
      "needs_background": "light"
     },
     "output_type": "display_data"
    }
   ],
   "source": [
    "# Display the plot with the previous results\n",
    "\n",
    "# The axis of x will be the threholds\n",
    "x = [i for i in range(len(thresholds))]\n",
    "f, ax = plt.subplots(1, 1, figsize=(14,6.5))\n",
    "\n",
    "# Set a the title\n",
    "plt.title(\"Success rate of detected faces in a determinate\")\n",
    "\n",
    "# For every value of a thresholds show in a different color the percentage obtained in every case\n",
    "for i in range(len(x)):\n",
    "    ax.bar(x[i]-0.3, correct_faces_train_t[i],width=0.2,color='red')\n",
    "    ax.bar(x[i]-0.1, correct_non_faces_train_t[i],width=0.2,color='green')\n",
    "    ax.bar(x[i]+0.1, correct_faces_test_t[i],width=0.2,color='blue')\n",
    "    ax.bar(x[i]+0.3, correct_non_faces_test_t[i],width=0.2,color='yellow')\n",
    "\n",
    "plt.legend(('correct faces on train', 'correct no faces on train', \\\n",
    "            'correct faces on test', 'correct no faces on test'), loc='upper right')\n",
    "\n",
    "# Set the names for every axis\n",
    "plt.xlabel('Threshold used')\n",
    "plt.ylabel('Success rate')\n",
    "\n",
    "# Set the value of every threshold\n",
    "plt.xticks(x, thresholds)\n",
    "\n",
    "# Show the results\n",
    "plt.show()"
   ]
  },
  {
   "cell_type": "markdown",
   "metadata": {
    "collapsed": true
   },
   "source": [
    "### Answering questions"
   ]
  },
  {
   "cell_type": "markdown",
   "metadata": {},
   "source": [
    "CHANGE THE ANSWER\n",
    "\n",
    "If we are in the negative values for a threshold, we get that the correct percentage of faces detected are the maximum (around the 100%) and the propotion for no faces correctly detected are 0%. But as we are increasing it's value, for the majority of the positive values for the threshold we are getting just the opposite. The number of no faces detected is 100% and the correct number of faces detected is 0.\n",
    "\n",
    "If we take a look on the threshold value 0, we obtain that the values of correctly detected faces on train and in test are more balanced and always surpass the 50%.\n",
    "\n",
    "This fact has an easy explanation because if we are setting a lower value for a thereshold we are obtaining that all the images can easly get scores values upper this limit and viceversa."
   ]
  }
 ],
 "metadata": {
  "kernelspec": {
   "display_name": "Python 3",
   "language": "python",
   "name": "python3"
  },
  "language_info": {
   "codemirror_mode": {
    "name": "ipython",
    "version": 3
   },
   "file_extension": ".py",
   "mimetype": "text/x-python",
   "name": "python",
   "nbconvert_exporter": "python",
   "pygments_lexer": "ipython3",
   "version": "3.7.3"
  }
 },
 "nbformat": 4,
 "nbformat_minor": 1
}
